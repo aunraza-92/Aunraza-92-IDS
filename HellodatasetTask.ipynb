{
 "cells": [
  {
   "cell_type": "code",
   "execution_count": 1,
   "id": "92cd0dc4",
   "metadata": {},
   "outputs": [],
   "source": [
    "import pandas as pd\n",
    "import re\n",
    "import numpy as np\n",
    "import seaborn as sns"
   ]
  },
  {
   "cell_type": "code",
   "execution_count": 10,
   "id": "1c971a35",
   "metadata": {},
   "outputs": [],
   "source": [
    "hello = pd.read_csv('C:/Users/Aun raza/Desktop/IDS/Aunraza-92-IDS/Hello dataset Task/the-hello-dataset-fa22.csv')"
   ]
  },
  {
   "cell_type": "code",
   "execution_count": 13,
   "id": "13d6ff3e",
   "metadata": {},
   "outputs": [
    {
     "data": {
      "text/html": [
       "<div>\n",
       "<style scoped>\n",
       "    .dataframe tbody tr th:only-of-type {\n",
       "        vertical-align: middle;\n",
       "    }\n",
       "\n",
       "    .dataframe tbody tr th {\n",
       "        vertical-align: top;\n",
       "    }\n",
       "\n",
       "    .dataframe thead th {\n",
       "        text-align: right;\n",
       "    }\n",
       "</style>\n",
       "<table border=\"1\" class=\"dataframe\">\n",
       "  <thead>\n",
       "    <tr style=\"text-align: right;\">\n",
       "      <th></th>\n",
       "      <th>Name</th>\n",
       "      <th>Gender</th>\n",
       "      <th>HSSC-1</th>\n",
       "      <th>HSSC-2</th>\n",
       "      <th>CGPA</th>\n",
       "      <th>FavoriteColor</th>\n",
       "      <th>BirthMonth</th>\n",
       "      <th>Weight</th>\n",
       "    </tr>\n",
       "  </thead>\n",
       "  <tbody>\n",
       "    <tr>\n",
       "      <th>0</th>\n",
       "      <td>Muhammad Usman</td>\n",
       "      <td>Male</td>\n",
       "      <td>440</td>\n",
       "      <td>369</td>\n",
       "      <td>2.80</td>\n",
       "      <td>Black</td>\n",
       "      <td>March</td>\n",
       "      <td>77.0</td>\n",
       "    </tr>\n",
       "    <tr>\n",
       "      <th>1</th>\n",
       "      <td>Taha Ishfaq</td>\n",
       "      <td>Male</td>\n",
       "      <td>415</td>\n",
       "      <td>408</td>\n",
       "      <td>2.73</td>\n",
       "      <td>Red</td>\n",
       "      <td>March</td>\n",
       "      <td>72.0</td>\n",
       "    </tr>\n",
       "    <tr>\n",
       "      <th>2</th>\n",
       "      <td>Muhammad Hamdan</td>\n",
       "      <td>Male</td>\n",
       "      <td>388</td>\n",
       "      <td>321</td>\n",
       "      <td>2.78</td>\n",
       "      <td>Black</td>\n",
       "      <td>October</td>\n",
       "      <td>53.0</td>\n",
       "    </tr>\n",
       "    <tr>\n",
       "      <th>3</th>\n",
       "      <td>Syeda Maham Gillani</td>\n",
       "      <td>Female</td>\n",
       "      <td>412</td>\n",
       "      <td>440</td>\n",
       "      <td>3.11</td>\n",
       "      <td>Blue</td>\n",
       "      <td>February</td>\n",
       "      <td>63.0</td>\n",
       "    </tr>\n",
       "    <tr>\n",
       "      <th>4</th>\n",
       "      <td>Umar Wasim</td>\n",
       "      <td>Male</td>\n",
       "      <td>364</td>\n",
       "      <td>469</td>\n",
       "      <td>2.84</td>\n",
       "      <td>black</td>\n",
       "      <td>October</td>\n",
       "      <td>80.0</td>\n",
       "    </tr>\n",
       "    <tr>\n",
       "      <th>...</th>\n",
       "      <td>...</td>\n",
       "      <td>...</td>\n",
       "      <td>...</td>\n",
       "      <td>...</td>\n",
       "      <td>...</td>\n",
       "      <td>...</td>\n",
       "      <td>...</td>\n",
       "      <td>...</td>\n",
       "    </tr>\n",
       "    <tr>\n",
       "      <th>129</th>\n",
       "      <td>M Abubakar Malik</td>\n",
       "      <td>Male</td>\n",
       "      <td>410</td>\n",
       "      <td>349</td>\n",
       "      <td>2.94</td>\n",
       "      <td>Blue</td>\n",
       "      <td>Feburary</td>\n",
       "      <td>65.0</td>\n",
       "    </tr>\n",
       "    <tr>\n",
       "      <th>130</th>\n",
       "      <td>Muhammad Ali</td>\n",
       "      <td>Male</td>\n",
       "      <td>403</td>\n",
       "      <td>390</td>\n",
       "      <td>2.52</td>\n",
       "      <td>Yellow</td>\n",
       "      <td>October</td>\n",
       "      <td>81.0</td>\n",
       "    </tr>\n",
       "    <tr>\n",
       "      <th>131</th>\n",
       "      <td>shafaqat ali</td>\n",
       "      <td>Male</td>\n",
       "      <td>424</td>\n",
       "      <td>400</td>\n",
       "      <td>3.07</td>\n",
       "      <td>Black</td>\n",
       "      <td>May</td>\n",
       "      <td>58.0</td>\n",
       "    </tr>\n",
       "    <tr>\n",
       "      <th>132</th>\n",
       "      <td>Ammar Asif</td>\n",
       "      <td>Male</td>\n",
       "      <td>351</td>\n",
       "      <td>423</td>\n",
       "      <td>2.52</td>\n",
       "      <td>Black</td>\n",
       "      <td>December</td>\n",
       "      <td>68.0</td>\n",
       "    </tr>\n",
       "    <tr>\n",
       "      <th>133</th>\n",
       "      <td>Muhammad Zubair</td>\n",
       "      <td>Male</td>\n",
       "      <td>361</td>\n",
       "      <td>335</td>\n",
       "      <td>2.81</td>\n",
       "      <td>Black</td>\n",
       "      <td>March</td>\n",
       "      <td>58.0</td>\n",
       "    </tr>\n",
       "  </tbody>\n",
       "</table>\n",
       "<p>134 rows × 8 columns</p>\n",
       "</div>"
      ],
      "text/plain": [
       "                    Name  Gender  HSSC-1  HSSC-2  CGPA FavoriteColor  \\\n",
       "0         Muhammad Usman    Male     440     369  2.80         Black   \n",
       "1            Taha Ishfaq    Male     415     408  2.73           Red   \n",
       "2        Muhammad Hamdan    Male     388     321  2.78         Black   \n",
       "3    Syeda Maham Gillani  Female     412     440  3.11          Blue   \n",
       "4             Umar Wasim    Male     364     469  2.84         black   \n",
       "..                   ...     ...     ...     ...   ...           ...   \n",
       "129     M Abubakar Malik    Male     410     349  2.94          Blue   \n",
       "130         Muhammad Ali    Male     403     390  2.52        Yellow   \n",
       "131         shafaqat ali    Male     424     400  3.07         Black   \n",
       "132           Ammar Asif    Male     351     423  2.52         Black   \n",
       "133      Muhammad Zubair    Male     361     335  2.81         Black   \n",
       "\n",
       "    BirthMonth  Weight  \n",
       "0        March    77.0  \n",
       "1        March    72.0  \n",
       "2      October    53.0  \n",
       "3     February    63.0  \n",
       "4      October    80.0  \n",
       "..         ...     ...  \n",
       "129   Feburary    65.0  \n",
       "130    October    81.0  \n",
       "131        May    58.0  \n",
       "132   December    68.0  \n",
       "133      March    58.0  \n",
       "\n",
       "[134 rows x 8 columns]"
      ]
     },
     "execution_count": 13,
     "metadata": {},
     "output_type": "execute_result"
    }
   ],
   "source": [
    "hello"
   ]
  },
  {
   "cell_type": "code",
   "execution_count": 4,
   "id": "8713e256",
   "metadata": {},
   "outputs": [
    {
     "name": "stdout",
     "output_type": "stream",
     "text": [
      "['Hamza Naveed', 'Habib Ullah', 'Hunain Javed', 'Hafiz Malahim Labib.', 'HAMNA TARIQ SALEEMI', 'Hina', 'Hamza Javed Khan', 'Husnain Ahmed', 'Hamayoun Masroor', 'Hussain afzal']\n"
     ]
    }
   ],
   "source": [
    "LetterH = []\n",
    "for item in hello.Name:\n",
    "    if item[0] == \"H\" :\n",
    "        LetterH.append(item)\n",
    "\n",
    "print(LetterH)"
   ]
  },
  {
   "cell_type": "code",
   "execution_count": 5,
   "id": "ca887da2",
   "metadata": {},
   "outputs": [
    {
     "name": "stdout",
     "output_type": "stream",
     "text": [
      "Total number of students who have a 3 words Name: 38\n"
     ]
    }
   ],
   "source": [
    "threewordsname = []\n",
    "count = 0\n",
    "for name in hello.Name:\n",
    "    x = name.split(\" \")\n",
    "    if (len(x) == 3) and (x[2] != \"\") :\n",
    "        count += 1 \n",
    "print(\"Total number of students who have a 3 words Name:\",count)"
   ]
  },
  {
   "cell_type": "code",
   "execution_count": 14,
   "id": "b1ff1622",
   "metadata": {},
   "outputs": [
    {
     "name": "stdout",
     "output_type": "stream",
     "text": [
      "Percentage:  28.35820895522388\n"
     ]
    }
   ],
   "source": [
    "count = 0\n",
    "for item in hello.CGPA:\n",
    "    item = float (item)\n",
    "    if (item >= 3):\n",
    "        count += 1\n",
    "\n",
    "print(\"Percentage: \",(count/len(hello.CGPA))*100)"
   ]
  },
  {
   "cell_type": "code",
   "execution_count": 15,
   "id": "46294fec",
   "metadata": {},
   "outputs": [
    {
     "data": {
      "image/png": "[encoded data removed]",
      "text/plain": [
       "<Figure size 432x288 with 1 Axes>"
      ]
     },
     "metadata": {},
     "output_type": "display_data"
    }
   ],
   "source": [
    "import matplotlib.pyplot as plt\n",
    "\n",
    "gender = [\"Male\", \"Female\"]\n",
    "maleCount = 0\n",
    "femaleCount = 0\n",
    "\n",
    "for item in hello.Gender :\n",
    "    if item == \"Male\":\n",
    "        maleCount += 1\n",
    "    else:\n",
    "        femaleCount += 1\n",
    "\n",
    "genderCount = [maleCount, femaleCount]\n",
    "\n",
    "plt.pie(genderCount, labels = gender,  autopct='%.1f%%')\n",
    "plt.show()"
   ]
  },
  {
   "cell_type": "code",
   "execution_count": 16,
   "id": "62aaba08",
   "metadata": {},
   "outputs": [
    {
     "data": {
      "text/plain": [
       "(array([ 0.,  0., 11., 74., 27.,  1.]),\n",
       " array([1. , 1.5, 2. , 2.5, 3. , 3.5, 4. ]),\n",
       " <BarContainer object of 6 artists>)"
      ]
     },
     "execution_count": 16,
     "metadata": {},
     "output_type": "execute_result"
    },
    {
     "data": {
      "image/png": "[encoded data removed]",
      "text/plain": [
       "<Figure size 432x288 with 1 Axes>"
      ]
     },
     "metadata": {
      "needs_background": "light"
     },
     "output_type": "display_data"
    }
   ],
   "source": [
    "plt.title(\"CGPA of all the Male Students\")\n",
    "i = 0\n",
    "cgpaMale = []\n",
    "for item in hello.Gender :\n",
    "    if item == \"Male\":\n",
    "        cgpa = hello.CGPA[i]\n",
    "        cgpaMale.append(cgpa)\n",
    "    i += 1\n",
    "\n",
    "plt.hist(cgpaMale, bins=[1.0, 1.5,2.0, 2.5, 3.0, 3.5, 4])"
   ]
  },
  {
   "cell_type": "code",
   "execution_count": 17,
   "id": "f6b144ae",
   "metadata": {},
   "outputs": [
    {
     "data": {
      "image/png": "[encoded data removed]",
      "text/plain": [
       "<Figure size 432x288 with 1 Axes>"
      ]
     },
     "metadata": {
      "needs_background": "light"
     },
     "output_type": "display_data"
    }
   ],
   "source": [
    "plt.bar(hello.Gender, hello.FavoriteColor)\n",
    "plt.xlabel(\"Numbers\")\n",
    "plt.ylabel(\"Colours\")\n",
    "plt.show()"
   ]
  },
  {
   "cell_type": "code",
   "execution_count": 18,
   "id": "58cb9938",
   "metadata": {},
   "outputs": [
    {
     "data": {
      "image/png": "[encoded data removed]",
      "text/plain": [
       "<Figure size 432x288 with 1 Axes>"
      ]
     },
     "metadata": {
      "needs_background": "light"
     },
     "output_type": "display_data"
    }
   ],
   "source": [
    "Month = [\"Jan\", \"Feb\",  \"Mar\", \"Apr\", \"May\", \"Jun\", \"Jul\", \"Aug\", \"Sep\", \"Oct\", \"Nov\", \"Dec\"]\n",
    "std_count = [0, 0, 0, 0, 0, 0, 0, 0, 0, 0, 0, 0]\n",
    "\n",
    "for item in hello.BirthMonth:\n",
    "    \n",
    "    i = item.split(\" \")\n",
    "    x = i[0]\n",
    "    if x == \"January\":\n",
    "        std_count[0] += 1\n",
    "    elif x == \"February\":\n",
    "        std_count[1] += 1\n",
    "    elif x == \"March\":\n",
    "        std_count[2] += 1\n",
    "    elif x == \"April\":\n",
    "        std_count[3] += 1\n",
    "    elif x == \"May\":\n",
    "        std_count[4] += 1\n",
    "    elif x == \"June\":\n",
    "        std_count[5] += 1\n",
    "    elif x == \"July\":\n",
    "        std_count[6] += 1\n",
    "    elif x == \"August\":\n",
    "        std_count[7] += 1\n",
    "    elif x == \"September\":\n",
    "        std_count[8] += 1\n",
    "    elif x == \"October\":\n",
    "        std_count[9] += 1\n",
    "    elif x == \"November\":\n",
    "        std_count[10] += 1\n",
    "    elif x == \"December\":\n",
    "        std_count[11] += 1\n",
    "        \n",
    "    else:\n",
    "        std_count\n",
    "\n",
    "plt.plot(Month, std_count)\n",
    "plt.title('Students and their birth months')\n",
    "plt.xlabel('Month')\n",
    "plt.ylabel('Number of Students')\n",
    "plt.show()"
   ]
  },
  {
   "cell_type": "code",
   "execution_count": 23,
   "id": "3ec2eedf",
   "metadata": {},
   "outputs": [
    {
     "ename": "NameError",
     "evalue": "name 'true' is not defined",
     "output_type": "error",
     "traceback": [
      "\u001b[1;31m---------------------------------------------------------------------------\u001b[0m",
      "\u001b[1;31mNameError\u001b[0m                                 Traceback (most recent call last)",
      "Input \u001b[1;32mIn [23]\u001b[0m, in \u001b[0;36m<cell line: 5>\u001b[1;34m()\u001b[0m\n\u001b[0;32m      3\u001b[0m df \u001b[38;5;241m=\u001b[39m pd\u001b[38;5;241m.\u001b[39mDataFrame(newData)\n\u001b[0;32m      4\u001b[0m plt\u001b[38;5;241m.\u001b[39mtitle(\u001b[38;5;124m\"\u001b[39m\u001b[38;5;124mHeatmap\u001b[39m\u001b[38;5;124m\"\u001b[39m)\n\u001b[1;32m----> 5\u001b[0m annot\u001b[38;5;241m=\u001b[39m \u001b[43mtrue\u001b[49m;\n\u001b[0;32m      6\u001b[0m sns\u001b[38;5;241m.\u001b[39mheatmap(df\u001b[38;5;241m.\u001b[39mcorr(), annot\u001b[38;5;241m=\u001b[39m true, cmap\u001b[38;5;241m=\u001b[39m\u001b[38;5;124m\"\u001b[39m\u001b[38;5;124mcrest\u001b[39m\u001b[38;5;124m\"\u001b[39m)\n",
      "\u001b[1;31mNameError\u001b[0m: name 'true' is not defined"
     ]
    },
    {
     "data": {
      "image/png": "[encoded data removed]",
      "text/plain": [
       "<Figure size 432x288 with 1 Axes>"
      ]
     },
     "metadata": {
      "needs_background": "light"
     },
     "output_type": "display_data"
    }
   ],
   "source": [
    "newData = {\"H1\": list('hello.HSSC-1'),\"H2\": list('hello.HSSC-2')}\n",
    "\n",
    "df = pd.DataFrame(newData)\n",
    "plt.title(\"Heatmap\")\n",
    "sns.heatmap(df.corr(), annot= true, cmap=\"crest\")"
   ]
  },
  {
   "cell_type": "code",
   "execution_count": null,
   "id": "b95e0d95",
   "metadata": {},
   "outputs": [],
   "source": []
  }
 ],
 "metadata": {
  "kernelspec": {
   "display_name": "Python 3 (ipykernel)",
   "language": "python",
   "name": "python3"
  },
  "language_info": {
   "codemirror_mode": {
    "name": "ipython",
    "version": 3
   },
   "file_extension": ".py",
   "mimetype": "text/x-python",
   "name": "python",
   "nbconvert_exporter": "python",
   "pygments_lexer": "ipython3",
   "version": "3.9.12"
  }
 },
 "nbformat": 4,
 "nbformat_minor": 5
}
